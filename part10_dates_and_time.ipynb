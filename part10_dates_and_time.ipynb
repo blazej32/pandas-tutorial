{
 "cells": [
  {
   "cell_type": "code",
   "execution_count": 8,
   "metadata": {},
   "outputs": [
    {
     "data": {
      "text/html": [
       "<div>\n",
       "<style scoped>\n",
       "    .dataframe tbody tr th:only-of-type {\n",
       "        vertical-align: middle;\n",
       "    }\n",
       "\n",
       "    .dataframe tbody tr th {\n",
       "        vertical-align: top;\n",
       "    }\n",
       "\n",
       "    .dataframe thead th {\n",
       "        text-align: right;\n",
       "    }\n",
       "</style>\n",
       "<table border=\"1\" class=\"dataframe\">\n",
       "  <thead>\n",
       "    <tr style=\"text-align: right;\">\n",
       "      <th></th>\n",
       "      <th>SCHOOL_ID</th>\n",
       "      <th>DATE</th>\n",
       "      <th>ENROLLED</th>\n",
       "      <th>ABSENT</th>\n",
       "      <th>PRESENT</th>\n",
       "      <th>RELEASED</th>\n",
       "    </tr>\n",
       "  </thead>\n",
       "  <tbody>\n",
       "    <tr>\n",
       "      <th>0</th>\n",
       "      <td>01M015</td>\n",
       "      <td>20180905</td>\n",
       "      <td>172</td>\n",
       "      <td>19</td>\n",
       "      <td>153</td>\n",
       "      <td>0</td>\n",
       "    </tr>\n",
       "    <tr>\n",
       "      <th>1</th>\n",
       "      <td>01M015</td>\n",
       "      <td>20180906</td>\n",
       "      <td>171</td>\n",
       "      <td>17</td>\n",
       "      <td>154</td>\n",
       "      <td>0</td>\n",
       "    </tr>\n",
       "    <tr>\n",
       "      <th>2</th>\n",
       "      <td>01M015</td>\n",
       "      <td>20180907</td>\n",
       "      <td>172</td>\n",
       "      <td>14</td>\n",
       "      <td>158</td>\n",
       "      <td>0</td>\n",
       "    </tr>\n",
       "    <tr>\n",
       "      <th>3</th>\n",
       "      <td>01M015</td>\n",
       "      <td>20180912</td>\n",
       "      <td>173</td>\n",
       "      <td>7</td>\n",
       "      <td>166</td>\n",
       "      <td>0</td>\n",
       "    </tr>\n",
       "    <tr>\n",
       "      <th>4</th>\n",
       "      <td>01M015</td>\n",
       "      <td>20180913</td>\n",
       "      <td>173</td>\n",
       "      <td>9</td>\n",
       "      <td>164</td>\n",
       "      <td>0</td>\n",
       "    </tr>\n",
       "    <tr>\n",
       "      <th>...</th>\n",
       "      <td>...</td>\n",
       "      <td>...</td>\n",
       "      <td>...</td>\n",
       "      <td>...</td>\n",
       "      <td>...</td>\n",
       "      <td>...</td>\n",
       "    </tr>\n",
       "    <tr>\n",
       "      <th>277148</th>\n",
       "      <td>79X695</td>\n",
       "      <td>20190620</td>\n",
       "      <td>230</td>\n",
       "      <td>46</td>\n",
       "      <td>136</td>\n",
       "      <td>48</td>\n",
       "    </tr>\n",
       "    <tr>\n",
       "      <th>277149</th>\n",
       "      <td>79X695</td>\n",
       "      <td>20190621</td>\n",
       "      <td>226</td>\n",
       "      <td>53</td>\n",
       "      <td>128</td>\n",
       "      <td>45</td>\n",
       "    </tr>\n",
       "    <tr>\n",
       "      <th>277150</th>\n",
       "      <td>79X695</td>\n",
       "      <td>20190624</td>\n",
       "      <td>226</td>\n",
       "      <td>42</td>\n",
       "      <td>130</td>\n",
       "      <td>54</td>\n",
       "    </tr>\n",
       "    <tr>\n",
       "      <th>277151</th>\n",
       "      <td>79X695</td>\n",
       "      <td>20190625</td>\n",
       "      <td>226</td>\n",
       "      <td>56</td>\n",
       "      <td>127</td>\n",
       "      <td>43</td>\n",
       "    </tr>\n",
       "    <tr>\n",
       "      <th>277152</th>\n",
       "      <td>79X695</td>\n",
       "      <td>20190626</td>\n",
       "      <td>216</td>\n",
       "      <td>27</td>\n",
       "      <td>68</td>\n",
       "      <td>121</td>\n",
       "    </tr>\n",
       "  </tbody>\n",
       "</table>\n",
       "<p>277153 rows × 6 columns</p>\n",
       "</div>"
      ],
      "text/plain": [
       "       SCHOOL_ID      DATE  ENROLLED  ABSENT  PRESENT  RELEASED\n",
       "0         01M015  20180905       172      19      153         0\n",
       "1         01M015  20180906       171      17      154         0\n",
       "2         01M015  20180907       172      14      158         0\n",
       "3         01M015  20180912       173       7      166         0\n",
       "4         01M015  20180913       173       9      164         0\n",
       "...          ...       ...       ...     ...      ...       ...\n",
       "277148    79X695  20190620       230      46      136        48\n",
       "277149    79X695  20190621       226      53      128        45\n",
       "277150    79X695  20190624       226      42      130        54\n",
       "277151    79X695  20190625       226      56      127        43\n",
       "277152    79X695  20190626       216      27       68       121\n",
       "\n",
       "[277153 rows x 6 columns]"
      ]
     },
     "execution_count": 8,
     "metadata": {},
     "output_type": "execute_result"
    }
   ],
   "source": [
    "import pandas as pd\n",
    "from datetime import datetime\n",
    "attendance_df = pd.read_csv('student_attendance.csv')\n",
    "attendance_df.columns = ['school id', 'date', 'enrolled', 'absent', 'present', 'released']\n",
    "attendance_df.columns = attendance_df.columns.str.replace(' ', '_')\n",
    "attendance_df.columns = attendance_df.columns.str.upper()\n",
    "attendance_df"
   ]
  },
  {
   "cell_type": "markdown",
   "metadata": {},
   "source": [
    "pd.to_datetime() method helps to convert string Date time in to Python Date time object"
   ]
  },
  {
   "cell_type": "code",
   "execution_count": 12,
   "metadata": {},
   "outputs": [
    {
     "data": {
      "text/plain": [
       "0        2018-09-05\n",
       "1        2018-09-06\n",
       "2        2018-09-07\n",
       "3        2018-09-12\n",
       "4        2018-09-13\n",
       "            ...    \n",
       "277148   2019-06-20\n",
       "277149   2019-06-21\n",
       "277150   2019-06-24\n",
       "277151   2019-06-25\n",
       "277152   2019-06-26\n",
       "Name: DATE, Length: 277153, dtype: datetime64[ns]"
      ]
     },
     "execution_count": 12,
     "metadata": {},
     "output_type": "execute_result"
    }
   ],
   "source": [
    "attendance_df['DATE'] = pd.to_datetime(attendance_df['DATE'], format='%Y%m%d')\n",
    "attendance_df['DATE']"
   ]
  },
  {
   "cell_type": "code",
   "execution_count": 13,
   "metadata": {},
   "outputs": [
    {
     "data": {
      "text/plain": [
       "'Wednesday'"
      ]
     },
     "execution_count": 13,
     "metadata": {},
     "output_type": "execute_result"
    }
   ],
   "source": [
    "attendance_df.loc[0, 'DATE'].day_name()"
   ]
  },
  {
   "cell_type": "code",
   "execution_count": 15,
   "metadata": {},
   "outputs": [
    {
     "data": {
      "text/plain": [
       "min    2018-09-04 00:00:00.000000000\n",
       "max    2019-06-26 00:00:00.000000000\n",
       "mean   2019-01-28 12:18:24.343088128\n",
       "Name: DATE, dtype: datetime64[ns]"
      ]
     },
     "execution_count": 15,
     "metadata": {},
     "output_type": "execute_result"
    }
   ],
   "source": [
    "attendance_df['DATE'].agg(['min', 'max', 'mean'])"
   ]
  },
  {
   "cell_type": "code",
   "execution_count": 16,
   "metadata": {},
   "outputs": [
    {
     "data": {
      "text/plain": [
       "Timedelta('295 days 00:00:00')"
      ]
     },
     "execution_count": 16,
     "metadata": {},
     "output_type": "execute_result"
    }
   ],
   "source": [
    "attendance_df['DATE'].max() - attendance_df['DATE'].min()"
   ]
  }
 ],
 "metadata": {
  "kernelspec": {
   "display_name": "Python 3",
   "language": "python",
   "name": "python3"
  },
  "language_info": {
   "codemirror_mode": {
    "name": "ipython",
    "version": 3
   },
   "file_extension": ".py",
   "mimetype": "text/x-python",
   "name": "python",
   "nbconvert_exporter": "python",
   "pygments_lexer": "ipython3",
   "version": "3.11.9"
  }
 },
 "nbformat": 4,
 "nbformat_minor": 2
}
